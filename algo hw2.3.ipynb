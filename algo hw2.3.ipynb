{
 "cells": [
  {
   "cell_type": "code",
   "execution_count": 1,
   "metadata": {},
   "outputs": [],
   "source": [
    "import pandas as pd\n",
    "import numpy as np"
   ]
  },
  {
   "cell_type": "code",
   "execution_count": 2,
   "metadata": {},
   "outputs": [],
   "source": [
    "## normal quick sort ##\n",
    "def quick(A,left,right):\n",
    "    if(left>=right):\n",
    "        return\n",
    "    \n",
    "    #partition\n",
    "    i = left - 1\n",
    "    j = left\n",
    "    pivot = A[right] #選最右邊當pivot\n",
    "  \n",
    "    while(j<right):\n",
    "        if(A[j]<=pivot): #該value比pivot小\n",
    "            i = i+1  \n",
    "            A[i],A[j] = A[j],A[i] #對調\n",
    "        j = j+1\n",
    "    \n",
    "    A[right],A[i+1] = A[i+1],A[right] #把pivot換到對應的位置\n",
    "    #recursion\n",
    "    quick(A,left,i)\n",
    "    quick(A,i+2,right)"
   ]
  },
  {
   "cell_type": "code",
   "execution_count": 3,
   "metadata": {},
   "outputs": [],
   "source": [
    "def partition(A, left, right):\n",
    " \n",
    "    pivot = A[left]\n",
    "    i = left - 1\n",
    "    j = right + 1\n",
    " \n",
    "    while (True):\n",
    "        i += 1\n",
    "        while (A[i] < pivot):\n",
    "            i += 1\n",
    "            \n",
    "        j -= 1\n",
    "        while (A[j] > pivot):\n",
    "            j -= 1\n",
    "            \n",
    "        if (i >= j):\n",
    "            return j\n",
    " \n",
    "        A[i], A[j] = A[j], A[i]\n",
    " \n",
    "\n",
    " \n",
    "def HoareQuick(A, left, right):\n",
    "    if (left < right):\n",
    "        q = partition(A, left, right)\n",
    "        HoareQuick(A, left, q)\n",
    "        HoareQuick(A, q + 1, right)\n",
    "    "
   ]
  },
  {
   "cell_type": "code",
   "execution_count": 5,
   "metadata": {},
   "outputs": [],
   "source": [
    "def TEST(R,S):\n",
    "    print(\"When Range = \",R,\", Size = \",S)\n",
    "    arr = np.random.randint(R, size = S) # random array\n",
    "\n",
    "    import time\n",
    "\n",
    "# 開始測量\n",
    "    start = time.time()\n",
    "\n",
    "    test_A = arr.copy()\n",
    "    quick(test_A,0,len(test_A)-1)\n",
    "\n",
    "\n",
    "# 結束測量\n",
    "    end = time.time()\n",
    "\n",
    "    print(\"一般的quicksort執行時間：%f 秒\" % (end - start))\n",
    "    time_A = end - start\n",
    "\n",
    "# 開始測量\n",
    "    start = time.time()\n",
    "    test_B = arr.copy()\n",
    "    HoareQuick(test_B,0,len(test_B)-1)\n",
    "\n",
    "\n",
    "# 結束測量\n",
    "    end = time.time()\n",
    "\n",
    "    print(\"HoarePartition執行時間：%f 秒\" % (end - start))\n",
    "    time_B = end - start\n",
    "\n",
    "\n",
    "    print(\"兩者相差 %f 秒\" % abs(time_A-time_B))\n",
    "    print()\n",
    "    return"
   ]
  },
  {
   "cell_type": "code",
   "execution_count": 6,
   "metadata": {},
   "outputs": [
    {
     "name": "stdout",
     "output_type": "stream",
     "text": [
      "When Range =  32768 , Size =  100\n",
      "一般的quicksort執行時間：0.008904 秒\n",
      "HoarePartition執行時間：0.001014 秒\n",
      "兩者相差 0.007890 秒\n",
      "\n",
      "When Range =  32768 , Size =  1000\n",
      "一般的quicksort執行時間：0.010968 秒\n",
      "HoarePartition執行時間：0.008976 秒\n",
      "兩者相差 0.001993 秒\n",
      "\n",
      "When Range =  32768 , Size =  10000\n",
      "一般的quicksort執行時間：0.132656 秒\n",
      "HoarePartition執行時間：0.115647 秒\n",
      "兩者相差 0.017009 秒\n",
      "\n",
      "When Range =  32768 , Size =  100000\n",
      "一般的quicksort執行時間：1.811877 秒\n",
      "HoarePartition執行時間：1.348289 秒\n",
      "兩者相差 0.463588 秒\n",
      "\n"
     ]
    }
   ],
   "source": [
    "r=32768\n",
    "s=100\n",
    "while(s!=1000000):\n",
    "    TEST(r,s)\n",
    "    s*=10"
   ]
  },
  {
   "cell_type": "code",
   "execution_count": 7,
   "metadata": {},
   "outputs": [
    {
     "name": "stdout",
     "output_type": "stream",
     "text": [
      "When Range =  10 , Size =  10000\n",
      "一般的quicksort執行時間：5.825520 秒\n",
      "HoarePartition執行時間：0.126660 秒\n",
      "兩者相差 5.698859 秒\n",
      "\n",
      "When Range =  100 , Size =  10000\n",
      "一般的quicksort執行時間：0.668766 秒\n",
      "HoarePartition執行時間：0.110705 秒\n",
      "兩者相差 0.558061 秒\n",
      "\n",
      "When Range =  1000 , Size =  10000\n",
      "一般的quicksort執行時間：0.161081 秒\n",
      "HoarePartition執行時間：0.114241 秒\n",
      "兩者相差 0.046840 秒\n",
      "\n",
      "When Range =  10000 , Size =  10000\n",
      "一般的quicksort執行時間：0.141623 秒\n",
      "HoarePartition執行時間：0.109705 秒\n",
      "兩者相差 0.031918 秒\n",
      "\n"
     ]
    }
   ],
   "source": [
    "r=10\n",
    "s=10000\n",
    "while(r!=100000):\n",
    "    TEST(r,s)\n",
    "    r*=10"
   ]
  },
  {
   "cell_type": "code",
   "execution_count": 1,
   "metadata": {},
   "outputs": [],
   "source": [
    "# test commit 20220419"
   ]
  },
  {
   "cell_type": "code",
   "execution_count": 2,
   "metadata": {},
   "outputs": [
    {
     "name": "stdout",
     "output_type": "stream",
     "text": [
      "test commit 04192022\n"
     ]
    }
   ],
   "source": [
    "print('test commit 04192022')"
   ]
  },
  {
   "cell_type": "code",
   "execution_count": null,
   "metadata": {},
   "outputs": [],
   "source": []
  }
 ],
 "metadata": {
  "kernelspec": {
   "display_name": "Python 3",
   "language": "python",
   "name": "python3"
  },
  "language_info": {
   "codemirror_mode": {
    "name": "ipython",
    "version": 3
   },
   "file_extension": ".py",
   "mimetype": "text/x-python",
   "name": "python",
   "nbconvert_exporter": "python",
   "pygments_lexer": "ipython3",
   "version": "3.9.7"
  }
 },
 "nbformat": 4,
 "nbformat_minor": 2
}
