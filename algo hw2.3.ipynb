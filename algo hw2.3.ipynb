{
 "cells": [
  {
   "cell_type": "code",
   "execution_count": 1,
   "metadata": {},
   "outputs": [],
   "source": [
    "import pandas as pd\n",
    "import numpy as np"
   ]
  },
  {
   "cell_type": "code",
   "execution_count": 2,
   "metadata": {},
   "outputs": [],
   "source": [
    "## normal quick sort ##\n",
    "def quick(A,left,right):\n",
    "    if(left>=right):\n",
    "        return\n",
    "    \n",
    "    #partition\n",
    "    i = left - 1\n",
    "    j = left\n",
    "    pivot = A[right] #選最右邊當pivot\n",
    "  \n",
    "    while(j<right):\n",
    "        if(A[j]<=pivot): #該value比pivot小\n",
    "            i = i+1  \n",
    "            A[i],A[j] = A[j],A[i] #對調\n",
    "        j = j+1\n",
    "    \n",
    "    A[right],A[i+1] = A[i+1],A[right] #把pivot換到對應的位置\n",
    "    #recursion\n",
    "    quick(A,left,i)\n",
    "    quick(A,i+2,right)"
   ]
  },
  {
   "cell_type": "code",
   "execution_count": 3,
   "metadata": {},
   "outputs": [],
   "source": [
    "def partition(A, left, right):\n",
    " \n",
    "    pivot = A[left]\n",
    "    i = left - 1\n",
    "    j = right + 1\n",
    " \n",
    "    while (True):\n",
    "        i += 1\n",
    "        while (A[i] < pivot):\n",
    "            i += 1\n",
    "            \n",
    "        j -= 1\n",
    "        while (A[j] > pivot):\n",
    "            j -= 1\n",
    "            \n",
    "        if (i >= j):\n",
    "            return j\n",
    " \n",
    "        A[i], A[j] = A[j], A[i]\n",
    " \n",
    "\n",
    " \n",
    "def HoareQuick(A, left, right):\n",
    "    if (left < right):\n",
    "        q = partition(A, left, right)\n",
    "        HoareQuick(A, left, q)\n",
    "        HoareQuick(A, q + 1, right)\n",
    "    "
   ]
  },
  {
   "cell_type": "code",
   "execution_count": 4,
   "metadata": {},
   "outputs": [],
   "source": [
    "def TEST(R,S):\n",
    "    print(\"When Range = \",R,\", Size = \",S)\n",
    "    arr = np.random.randint(R, size = S) # random array\n",
    "\n",
    "    import time\n",
    "\n",
    "# 開始測量\n",
    "    start = time.time()\n",
    "\n",
    "    test_A = arr.copy()\n",
    "    quick(test_A,0,len(test_A)-1)\n",
    "\n",
    "\n",
    "# 結束測量\n",
    "    end = time.time()\n",
    "\n",
    "    print(\"一般的quicksort執行時間：%f 秒\" % (end - start))\n",
    "    time_A = end - start\n",
    "\n",
    "# 開始測量\n",
    "    start = time.time()\n",
    "    test_B = arr.copy()\n",
    "    HoareQuick(test_B,0,len(test_B)-1)\n",
    "\n",
    "\n",
    "# 結束測量\n",
    "    end = time.time()\n",
    "\n",
    "    print(\"HoarePartition執行時間：%f 秒\" % (end - start))\n",
    "    time_B = end - start\n",
    "\n",
    "\n",
    "    print(\"兩者相差 %f 秒\" % abs(time_A-time_B))\n",
    "    \n",
    "    return"
   ]
  },
  {
   "cell_type": "code",
   "execution_count": 299,
   "metadata": {},
   "outputs": [
    {
     "name": "stdout",
     "output_type": "stream",
     "text": [
      "一般的quicksort執行時間：0.000997 秒\n",
      "HoarePartition執行時間：0.001032 秒\n",
      "兩者相差 0.000035 秒\n",
      "一般的quicksort執行時間：0.010936 秒\n",
      "HoarePartition執行時間：0.007978 秒\n",
      "兩者相差 0.002958 秒\n",
      "一般的quicksort執行時間：0.134723 秒\n",
      "HoarePartition執行時間：0.107676 秒\n",
      "兩者相差 0.027046 秒\n",
      "一般的quicksort執行時間：1.764920 秒\n",
      "HoarePartition執行時間：1.370279 秒\n",
      "兩者相差 0.394640 秒\n"
     ]
    }
   ],
   "source": [
    "r=32768\n",
    "s=100\n",
    "while(s!=1000000):\n",
    "    TEST(r,s)\n",
    "    s*=10"
   ]
  },
  {
   "cell_type": "code",
   "execution_count": 301,
   "metadata": {},
   "outputs": [
    {
     "name": "stdout",
     "output_type": "stream",
     "text": [
      "一般的quicksort執行時間：5.899832 秒\n",
      "HoarePartition執行時間：0.110319 秒\n",
      "兩者相差 5.789514 秒\n",
      "一般的quicksort執行時間：0.632380 秒\n",
      "HoarePartition執行時間：0.108132 秒\n",
      "兩者相差 0.524248 秒\n",
      "一般的quicksort執行時間：0.174899 秒\n",
      "HoarePartition執行時間：0.105727 秒\n",
      "兩者相差 0.069171 秒\n",
      "一般的quicksort執行時間：0.132608 秒\n",
      "HoarePartition執行時間：0.109752 秒\n",
      "兩者相差 0.022856 秒\n"
     ]
    }
   ],
   "source": [
    "r=10\n",
    "s=10000\n",
    "while(r!=100000):\n",
    "    TEST(r,s)\n",
    "    r*=10"
   ]
  }
 ],
 "metadata": {
  "kernelspec": {
   "display_name": "Python 3",
   "language": "python",
   "name": "python3"
  },
  "language_info": {
   "codemirror_mode": {
    "name": "ipython",
    "version": 3
   },
   "file_extension": ".py",
   "mimetype": "text/x-python",
   "name": "python",
   "nbconvert_exporter": "python",
   "pygments_lexer": "ipython3",
   "version": "3.7.3"
  }
 },
 "nbformat": 4,
 "nbformat_minor": 2
}
